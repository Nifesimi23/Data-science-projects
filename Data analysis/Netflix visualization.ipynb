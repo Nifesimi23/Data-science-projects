{
 "cells": [
  {
   "cell_type": "markdown",
   "id": "1fe34ba4",
   "metadata": {},
   "source": [
    "## NETFLIX VISUALIZATION ASSIGNMENT"
   ]
  },
  {
   "cell_type": "code",
   "execution_count": null,
   "id": "ba535ec7",
   "metadata": {},
   "outputs": [],
   "source": []
  },
  {
   "cell_type": "code",
   "execution_count": 1,
   "id": "04c878a6",
   "metadata": {},
   "outputs": [],
   "source": [
    "#importing the needed libraries\n",
    "import matplotlib.pyplot as plt\n",
    "import pandas as pd\n",
    "import seaborn as sns"
   ]
  },
  {
   "cell_type": "code",
   "execution_count": 2,
   "id": "a7243628",
   "metadata": {},
   "outputs": [
    {
     "data": {
      "text/html": [
       "<div>\n",
       "<style scoped>\n",
       "    .dataframe tbody tr th:only-of-type {\n",
       "        vertical-align: middle;\n",
       "    }\n",
       "\n",
       "    .dataframe tbody tr th {\n",
       "        vertical-align: top;\n",
       "    }\n",
       "\n",
       "    .dataframe thead th {\n",
       "        text-align: right;\n",
       "    }\n",
       "</style>\n",
       "<table border=\"1\" class=\"dataframe\">\n",
       "  <thead>\n",
       "    <tr style=\"text-align: right;\">\n",
       "      <th></th>\n",
       "      <th>show_id</th>\n",
       "      <th>type</th>\n",
       "      <th>title</th>\n",
       "      <th>director</th>\n",
       "      <th>cast</th>\n",
       "      <th>country</th>\n",
       "      <th>date_added</th>\n",
       "      <th>release_year</th>\n",
       "      <th>rating</th>\n",
       "      <th>duration</th>\n",
       "      <th>listed_in</th>\n",
       "      <th>description</th>\n",
       "    </tr>\n",
       "  </thead>\n",
       "  <tbody>\n",
       "    <tr>\n",
       "      <th>0</th>\n",
       "      <td>s1</td>\n",
       "      <td>Movie</td>\n",
       "      <td>Dick Johnson Is Dead</td>\n",
       "      <td>Kirsten Johnson</td>\n",
       "      <td>NaN</td>\n",
       "      <td>United States</td>\n",
       "      <td>September 25, 2021</td>\n",
       "      <td>2020</td>\n",
       "      <td>PG-13</td>\n",
       "      <td>90 min</td>\n",
       "      <td>Documentaries</td>\n",
       "      <td>As her father nears the end of his life, filmm...</td>\n",
       "    </tr>\n",
       "    <tr>\n",
       "      <th>1</th>\n",
       "      <td>s2</td>\n",
       "      <td>TV Show</td>\n",
       "      <td>Blood &amp; Water</td>\n",
       "      <td>NaN</td>\n",
       "      <td>Ama Qamata, Khosi Ngema, Gail Mabalane, Thaban...</td>\n",
       "      <td>South Africa</td>\n",
       "      <td>September 24, 2021</td>\n",
       "      <td>2021</td>\n",
       "      <td>TV-MA</td>\n",
       "      <td>2 Seasons</td>\n",
       "      <td>International TV Shows, TV Dramas, TV Mysteries</td>\n",
       "      <td>After crossing paths at a party, a Cape Town t...</td>\n",
       "    </tr>\n",
       "    <tr>\n",
       "      <th>2</th>\n",
       "      <td>s3</td>\n",
       "      <td>TV Show</td>\n",
       "      <td>Ganglands</td>\n",
       "      <td>Julien Leclercq</td>\n",
       "      <td>Sami Bouajila, Tracy Gotoas, Samuel Jouy, Nabi...</td>\n",
       "      <td>NaN</td>\n",
       "      <td>September 24, 2021</td>\n",
       "      <td>2021</td>\n",
       "      <td>TV-MA</td>\n",
       "      <td>1 Season</td>\n",
       "      <td>Crime TV Shows, International TV Shows, TV Act...</td>\n",
       "      <td>To protect his family from a powerful drug lor...</td>\n",
       "    </tr>\n",
       "    <tr>\n",
       "      <th>3</th>\n",
       "      <td>s4</td>\n",
       "      <td>TV Show</td>\n",
       "      <td>Jailbirds New Orleans</td>\n",
       "      <td>NaN</td>\n",
       "      <td>NaN</td>\n",
       "      <td>NaN</td>\n",
       "      <td>September 24, 2021</td>\n",
       "      <td>2021</td>\n",
       "      <td>TV-MA</td>\n",
       "      <td>1 Season</td>\n",
       "      <td>Docuseries, Reality TV</td>\n",
       "      <td>Feuds, flirtations and toilet talk go down amo...</td>\n",
       "    </tr>\n",
       "    <tr>\n",
       "      <th>4</th>\n",
       "      <td>s5</td>\n",
       "      <td>TV Show</td>\n",
       "      <td>Kota Factory</td>\n",
       "      <td>NaN</td>\n",
       "      <td>Mayur More, Jitendra Kumar, Ranjan Raj, Alam K...</td>\n",
       "      <td>India</td>\n",
       "      <td>September 24, 2021</td>\n",
       "      <td>2021</td>\n",
       "      <td>TV-MA</td>\n",
       "      <td>2 Seasons</td>\n",
       "      <td>International TV Shows, Romantic TV Shows, TV ...</td>\n",
       "      <td>In a city of coaching centers known to train I...</td>\n",
       "    </tr>\n",
       "  </tbody>\n",
       "</table>\n",
       "</div>"
      ],
      "text/plain": [
       "  show_id     type                  title         director  \\\n",
       "0      s1    Movie   Dick Johnson Is Dead  Kirsten Johnson   \n",
       "1      s2  TV Show          Blood & Water              NaN   \n",
       "2      s3  TV Show              Ganglands  Julien Leclercq   \n",
       "3      s4  TV Show  Jailbirds New Orleans              NaN   \n",
       "4      s5  TV Show           Kota Factory              NaN   \n",
       "\n",
       "                                                cast        country  \\\n",
       "0                                                NaN  United States   \n",
       "1  Ama Qamata, Khosi Ngema, Gail Mabalane, Thaban...   South Africa   \n",
       "2  Sami Bouajila, Tracy Gotoas, Samuel Jouy, Nabi...            NaN   \n",
       "3                                                NaN            NaN   \n",
       "4  Mayur More, Jitendra Kumar, Ranjan Raj, Alam K...          India   \n",
       "\n",
       "           date_added  release_year rating   duration  \\\n",
       "0  September 25, 2021          2020  PG-13     90 min   \n",
       "1  September 24, 2021          2021  TV-MA  2 Seasons   \n",
       "2  September 24, 2021          2021  TV-MA   1 Season   \n",
       "3  September 24, 2021          2021  TV-MA   1 Season   \n",
       "4  September 24, 2021          2021  TV-MA  2 Seasons   \n",
       "\n",
       "                                           listed_in  \\\n",
       "0                                      Documentaries   \n",
       "1    International TV Shows, TV Dramas, TV Mysteries   \n",
       "2  Crime TV Shows, International TV Shows, TV Act...   \n",
       "3                             Docuseries, Reality TV   \n",
       "4  International TV Shows, Romantic TV Shows, TV ...   \n",
       "\n",
       "                                         description  \n",
       "0  As her father nears the end of his life, filmm...  \n",
       "1  After crossing paths at a party, a Cape Town t...  \n",
       "2  To protect his family from a powerful drug lor...  \n",
       "3  Feuds, flirtations and toilet talk go down amo...  \n",
       "4  In a city of coaching centers known to train I...  "
      ]
     },
     "execution_count": 2,
     "metadata": {},
     "output_type": "execute_result"
    }
   ],
   "source": [
    "#DISPLAYING THE FIRST FEW DATA\n",
    "\n",
    "df = pd.read_csv('netflix_titles.csv')\n",
    "\n",
    "df.head(5)"
   ]
  },
  {
   "cell_type": "code",
   "execution_count": 3,
   "id": "8d75cb68",
   "metadata": {},
   "outputs": [
    {
     "data": {
      "text/html": [
       "<div>\n",
       "<style scoped>\n",
       "    .dataframe tbody tr th:only-of-type {\n",
       "        vertical-align: middle;\n",
       "    }\n",
       "\n",
       "    .dataframe tbody tr th {\n",
       "        vertical-align: top;\n",
       "    }\n",
       "\n",
       "    .dataframe thead th {\n",
       "        text-align: right;\n",
       "    }\n",
       "</style>\n",
       "<table border=\"1\" class=\"dataframe\">\n",
       "  <thead>\n",
       "    <tr style=\"text-align: right;\">\n",
       "      <th></th>\n",
       "      <th>show_id</th>\n",
       "      <th>type</th>\n",
       "      <th>title</th>\n",
       "      <th>director</th>\n",
       "      <th>cast</th>\n",
       "      <th>country</th>\n",
       "      <th>date_added</th>\n",
       "      <th>release_year</th>\n",
       "      <th>rating</th>\n",
       "      <th>duration</th>\n",
       "      <th>listed_in</th>\n",
       "      <th>description</th>\n",
       "    </tr>\n",
       "  </thead>\n",
       "  <tbody>\n",
       "    <tr>\n",
       "      <th>8802</th>\n",
       "      <td>s8803</td>\n",
       "      <td>Movie</td>\n",
       "      <td>Zodiac</td>\n",
       "      <td>David Fincher</td>\n",
       "      <td>Mark Ruffalo, Jake Gyllenhaal, Robert Downey J...</td>\n",
       "      <td>United States</td>\n",
       "      <td>November 20, 2019</td>\n",
       "      <td>2007</td>\n",
       "      <td>R</td>\n",
       "      <td>158 min</td>\n",
       "      <td>Cult Movies, Dramas, Thrillers</td>\n",
       "      <td>A political cartoonist, a crime reporter and a...</td>\n",
       "    </tr>\n",
       "    <tr>\n",
       "      <th>8803</th>\n",
       "      <td>s8804</td>\n",
       "      <td>TV Show</td>\n",
       "      <td>Zombie Dumb</td>\n",
       "      <td>NaN</td>\n",
       "      <td>NaN</td>\n",
       "      <td>NaN</td>\n",
       "      <td>July 1, 2019</td>\n",
       "      <td>2018</td>\n",
       "      <td>TV-Y7</td>\n",
       "      <td>2 Seasons</td>\n",
       "      <td>Kids' TV, Korean TV Shows, TV Comedies</td>\n",
       "      <td>While living alone in a spooky town, a young g...</td>\n",
       "    </tr>\n",
       "    <tr>\n",
       "      <th>8804</th>\n",
       "      <td>s8805</td>\n",
       "      <td>Movie</td>\n",
       "      <td>Zombieland</td>\n",
       "      <td>Ruben Fleischer</td>\n",
       "      <td>Jesse Eisenberg, Woody Harrelson, Emma Stone, ...</td>\n",
       "      <td>United States</td>\n",
       "      <td>November 1, 2019</td>\n",
       "      <td>2009</td>\n",
       "      <td>R</td>\n",
       "      <td>88 min</td>\n",
       "      <td>Comedies, Horror Movies</td>\n",
       "      <td>Looking to survive in a world taken over by zo...</td>\n",
       "    </tr>\n",
       "    <tr>\n",
       "      <th>8805</th>\n",
       "      <td>s8806</td>\n",
       "      <td>Movie</td>\n",
       "      <td>Zoom</td>\n",
       "      <td>Peter Hewitt</td>\n",
       "      <td>Tim Allen, Courteney Cox, Chevy Chase, Kate Ma...</td>\n",
       "      <td>United States</td>\n",
       "      <td>January 11, 2020</td>\n",
       "      <td>2006</td>\n",
       "      <td>PG</td>\n",
       "      <td>88 min</td>\n",
       "      <td>Children &amp; Family Movies, Comedies</td>\n",
       "      <td>Dragged from civilian life, a former superhero...</td>\n",
       "    </tr>\n",
       "    <tr>\n",
       "      <th>8806</th>\n",
       "      <td>s8807</td>\n",
       "      <td>Movie</td>\n",
       "      <td>Zubaan</td>\n",
       "      <td>Mozez Singh</td>\n",
       "      <td>Vicky Kaushal, Sarah-Jane Dias, Raaghav Chanan...</td>\n",
       "      <td>India</td>\n",
       "      <td>March 2, 2019</td>\n",
       "      <td>2015</td>\n",
       "      <td>TV-14</td>\n",
       "      <td>111 min</td>\n",
       "      <td>Dramas, International Movies, Music &amp; Musicals</td>\n",
       "      <td>A scrappy but poor boy worms his way into a ty...</td>\n",
       "    </tr>\n",
       "  </tbody>\n",
       "</table>\n",
       "</div>"
      ],
      "text/plain": [
       "     show_id     type        title         director  \\\n",
       "8802   s8803    Movie       Zodiac    David Fincher   \n",
       "8803   s8804  TV Show  Zombie Dumb              NaN   \n",
       "8804   s8805    Movie   Zombieland  Ruben Fleischer   \n",
       "8805   s8806    Movie         Zoom     Peter Hewitt   \n",
       "8806   s8807    Movie       Zubaan      Mozez Singh   \n",
       "\n",
       "                                                   cast        country  \\\n",
       "8802  Mark Ruffalo, Jake Gyllenhaal, Robert Downey J...  United States   \n",
       "8803                                                NaN            NaN   \n",
       "8804  Jesse Eisenberg, Woody Harrelson, Emma Stone, ...  United States   \n",
       "8805  Tim Allen, Courteney Cox, Chevy Chase, Kate Ma...  United States   \n",
       "8806  Vicky Kaushal, Sarah-Jane Dias, Raaghav Chanan...          India   \n",
       "\n",
       "             date_added  release_year rating   duration  \\\n",
       "8802  November 20, 2019          2007      R    158 min   \n",
       "8803       July 1, 2019          2018  TV-Y7  2 Seasons   \n",
       "8804   November 1, 2019          2009      R     88 min   \n",
       "8805   January 11, 2020          2006     PG     88 min   \n",
       "8806      March 2, 2019          2015  TV-14    111 min   \n",
       "\n",
       "                                           listed_in  \\\n",
       "8802                  Cult Movies, Dramas, Thrillers   \n",
       "8803          Kids' TV, Korean TV Shows, TV Comedies   \n",
       "8804                         Comedies, Horror Movies   \n",
       "8805              Children & Family Movies, Comedies   \n",
       "8806  Dramas, International Movies, Music & Musicals   \n",
       "\n",
       "                                            description  \n",
       "8802  A political cartoonist, a crime reporter and a...  \n",
       "8803  While living alone in a spooky town, a young g...  \n",
       "8804  Looking to survive in a world taken over by zo...  \n",
       "8805  Dragged from civilian life, a former superhero...  \n",
       "8806  A scrappy but poor boy worms his way into a ty...  "
      ]
     },
     "execution_count": 3,
     "metadata": {},
     "output_type": "execute_result"
    }
   ],
   "source": [
    "#Displaying the few last values of the data \n",
    "\n",
    "df.tail(5)"
   ]
  },
  {
   "cell_type": "code",
   "execution_count": 4,
   "id": "93cfc0e8",
   "metadata": {},
   "outputs": [
    {
     "name": "stdout",
     "output_type": "stream",
     "text": [
      "<class 'pandas.core.frame.DataFrame'>\n",
      "RangeIndex: 8807 entries, 0 to 8806\n",
      "Data columns (total 12 columns):\n",
      " #   Column        Non-Null Count  Dtype \n",
      "---  ------        --------------  ----- \n",
      " 0   show_id       8807 non-null   object\n",
      " 1   type          8807 non-null   object\n",
      " 2   title         8807 non-null   object\n",
      " 3   director      6173 non-null   object\n",
      " 4   cast          7982 non-null   object\n",
      " 5   country       7976 non-null   object\n",
      " 6   date_added    8797 non-null   object\n",
      " 7   release_year  8807 non-null   int64 \n",
      " 8   rating        8803 non-null   object\n",
      " 9   duration      8804 non-null   object\n",
      " 10  listed_in     8807 non-null   object\n",
      " 11  description   8807 non-null   object\n",
      "dtypes: int64(1), object(11)\n",
      "memory usage: 825.8+ KB\n"
     ]
    }
   ],
   "source": [
    "#Getting the information obout the data\n",
    "\n",
    "df.info()"
   ]
  },
  {
   "cell_type": "code",
   "execution_count": 5,
   "id": "76c9a93b",
   "metadata": {},
   "outputs": [
    {
     "data": {
      "text/plain": [
       "show_id            0\n",
       "type               0\n",
       "title              0\n",
       "director        2634\n",
       "cast             825\n",
       "country          831\n",
       "date_added        10\n",
       "release_year       0\n",
       "rating             4\n",
       "duration           3\n",
       "listed_in          0\n",
       "description        0\n",
       "dtype: int64"
      ]
     },
     "execution_count": 5,
     "metadata": {},
     "output_type": "execute_result"
    }
   ],
   "source": [
    "#Getting the missing values of our data \n",
    "\n",
    "df.isnull().sum()\n",
    "\n"
   ]
  },
  {
   "cell_type": "code",
   "execution_count": 6,
   "id": "63c4c499",
   "metadata": {},
   "outputs": [],
   "source": [
    "df = df.dropna(subset=['date_added', 'rating', 'duration'])   # dropping rows with missing values "
   ]
  },
  {
   "cell_type": "code",
   "execution_count": 7,
   "id": "a0c79f40",
   "metadata": {},
   "outputs": [],
   "source": [
    "df['director'] = df['director'].fillna('No Record')   # filling up the missing values\n"
   ]
  },
  {
   "cell_type": "code",
   "execution_count": 8,
   "id": "a92c7607",
   "metadata": {},
   "outputs": [],
   "source": [
    "df['cast'] = df['cast'].fillna('No Record')       # filling up the missing values "
   ]
  },
  {
   "cell_type": "code",
   "execution_count": 9,
   "id": "1331a5c1",
   "metadata": {},
   "outputs": [],
   "source": [
    "df['country'] = df['country'].fillna('No Record')      #filling up the missing values "
   ]
  },
  {
   "cell_type": "code",
   "execution_count": 10,
   "id": "f4eed343",
   "metadata": {},
   "outputs": [
    {
     "data": {
      "text/plain": [
       "show_id         0\n",
       "type            0\n",
       "title           0\n",
       "director        0\n",
       "cast            0\n",
       "country         0\n",
       "date_added      0\n",
       "release_year    0\n",
       "rating          0\n",
       "duration        0\n",
       "listed_in       0\n",
       "description     0\n",
       "dtype: int64"
      ]
     },
     "execution_count": 10,
     "metadata": {},
     "output_type": "execute_result"
    }
   ],
   "source": [
    "#Ensuring there are no longer missing values \n",
    "\n",
    "df.isnull().sum()"
   ]
  },
  {
   "cell_type": "code",
   "execution_count": 11,
   "id": "289898d4",
   "metadata": {},
   "outputs": [
    {
     "data": {
      "text/plain": [
       "1 Season     1791\n",
       "2 Seasons     421\n",
       "3 Seasons     198\n",
       "90 min        152\n",
       "94 min        146\n",
       "             ... \n",
       "16 min          1\n",
       "186 min         1\n",
       "193 min         1\n",
       "189 min         1\n",
       "191 min         1\n",
       "Name: duration, Length: 220, dtype: int64"
      ]
     },
     "execution_count": 11,
     "metadata": {},
     "output_type": "execute_result"
    }
   ],
   "source": [
    "df['duration'].value_counts()   # counts the unique values of the duration of time"
   ]
  },
  {
   "cell_type": "code",
   "execution_count": 12,
   "id": "c8dda6e5",
   "metadata": {},
   "outputs": [],
   "source": [
    "df['duration'] = df['duration'].str.strip('Season')\n",
    "df['duration'] = df['duration'].str.strip('Seasons')\n",
    "df['duration'] = df['duration'].str.strip('min')"
   ]
  },
  {
   "cell_type": "code",
   "execution_count": 13,
   "id": "cbb9e437",
   "metadata": {},
   "outputs": [
    {
     "data": {
      "text/plain": [
       "1       1791\n",
       "2        421\n",
       "3        199\n",
       "90       152\n",
       "94       146\n",
       "        ... \n",
       "189        1\n",
       "273        1\n",
       "212        1\n",
       "224        1\n",
       "191        1\n",
       "Name: duration, Length: 210, dtype: int64"
      ]
     },
     "execution_count": 13,
     "metadata": {},
     "output_type": "execute_result"
    }
   ],
   "source": [
    "df['duration'].value_counts()"
   ]
  },
  {
   "cell_type": "code",
   "execution_count": 14,
   "id": "0f5685e1",
   "metadata": {},
   "outputs": [
    {
     "data": {
      "text/plain": [
       "Movie      6126\n",
       "TV Show    2664\n",
       "Name: type, dtype: int64"
      ]
     },
     "execution_count": 14,
     "metadata": {},
     "output_type": "execute_result"
    }
   ],
   "source": [
    "df['type'].value_counts()"
   ]
  },
  {
   "cell_type": "markdown",
   "id": "6fe97259",
   "metadata": {},
   "source": [
    "## Distribution of Movies to Series"
   ]
  },
  {
   "cell_type": "markdown",
   "id": "5e404568",
   "metadata": {},
   "source": [
    "### Percentage of Tv shows and Movies"
   ]
  },
  {
   "cell_type": "code",
   "execution_count": 15,
   "id": "059a73c6",
   "metadata": {},
   "outputs": [
    {
     "data": {
      "image/png": "[encoded data removed]",
      "text/plain": [
       "<Figure size 432x288 with 1 Axes>"
      ]
     },
     "metadata": {},
     "output_type": "display_data"
    }
   ],
   "source": [
    "plt.pie(df['type'].value_counts(), \n",
    "        labels=df['type'].value_counts().index,\n",
    "        colors=['Pink', 'blue'], startangle=180,\n",
    "        autopct='% 1.1F%%'\n",
    "        \n",
    "       )\n",
    "plt.legend();"
   ]
  },
  {
   "cell_type": "markdown",
   "id": "904f1dde",
   "metadata": {},
   "source": [
    "## TV SHOW SUBSET"
   ]
  },
  {
   "cell_type": "code",
   "execution_count": 16,
   "id": "7077142b",
   "metadata": {},
   "outputs": [
    {
     "data": {
      "text/plain": [
       "No Record                         2621\n",
       "Rajiv Chilaka                       19\n",
       "Raúl Campos, Jan Suter              18\n",
       "Suhas Kadav                         16\n",
       "Marcus Raboy                        16\n",
       "                                  ... \n",
       "Raymie Muzquiz, Stu Livingston       1\n",
       "Joe Menendez                         1\n",
       "Eric Bross                           1\n",
       "Will Eisenberg                       1\n",
       "Mozez Singh                          1\n",
       "Name: director, Length: 4527, dtype: int64"
      ]
     },
     "execution_count": 16,
     "metadata": {},
     "output_type": "execute_result"
    }
   ],
   "source": [
    "df['director'].value_counts()\n"
   ]
  },
  {
   "cell_type": "code",
   "execution_count": 17,
   "id": "6a59ffd7",
   "metadata": {},
   "outputs": [
    {
     "data": {
      "text/html": [
       "<div>\n",
       "<style scoped>\n",
       "    .dataframe tbody tr th:only-of-type {\n",
       "        vertical-align: middle;\n",
       "    }\n",
       "\n",
       "    .dataframe tbody tr th {\n",
       "        vertical-align: top;\n",
       "    }\n",
       "\n",
       "    .dataframe thead th {\n",
       "        text-align: right;\n",
       "    }\n",
       "</style>\n",
       "<table border=\"1\" class=\"dataframe\">\n",
       "  <thead>\n",
       "    <tr style=\"text-align: right;\">\n",
       "      <th></th>\n",
       "      <th>show_id</th>\n",
       "      <th>type</th>\n",
       "      <th>title</th>\n",
       "      <th>director</th>\n",
       "      <th>cast</th>\n",
       "      <th>country</th>\n",
       "      <th>date_added</th>\n",
       "      <th>release_year</th>\n",
       "      <th>rating</th>\n",
       "      <th>duration</th>\n",
       "      <th>listed_in</th>\n",
       "      <th>description</th>\n",
       "    </tr>\n",
       "  </thead>\n",
       "  <tbody>\n",
       "    <tr>\n",
       "      <th>1</th>\n",
       "      <td>s2</td>\n",
       "      <td>TV Show</td>\n",
       "      <td>Blood &amp; Water</td>\n",
       "      <td>No Record</td>\n",
       "      <td>Ama Qamata, Khosi Ngema, Gail Mabalane, Thaban...</td>\n",
       "      <td>South Africa</td>\n",
       "      <td>September 24, 2021</td>\n",
       "      <td>2021</td>\n",
       "      <td>TV-MA</td>\n",
       "      <td>2</td>\n",
       "      <td>International TV Shows, TV Dramas, TV Mysteries</td>\n",
       "      <td>After crossing paths at a party, a Cape Town t...</td>\n",
       "    </tr>\n",
       "    <tr>\n",
       "      <th>2</th>\n",
       "      <td>s3</td>\n",
       "      <td>TV Show</td>\n",
       "      <td>Ganglands</td>\n",
       "      <td>Julien Leclercq</td>\n",
       "      <td>Sami Bouajila, Tracy Gotoas, Samuel Jouy, Nabi...</td>\n",
       "      <td>No Record</td>\n",
       "      <td>September 24, 2021</td>\n",
       "      <td>2021</td>\n",
       "      <td>TV-MA</td>\n",
       "      <td>1</td>\n",
       "      <td>Crime TV Shows, International TV Shows, TV Act...</td>\n",
       "      <td>To protect his family from a powerful drug lor...</td>\n",
       "    </tr>\n",
       "    <tr>\n",
       "      <th>3</th>\n",
       "      <td>s4</td>\n",
       "      <td>TV Show</td>\n",
       "      <td>Jailbirds New Orleans</td>\n",
       "      <td>No Record</td>\n",
       "      <td>No Record</td>\n",
       "      <td>No Record</td>\n",
       "      <td>September 24, 2021</td>\n",
       "      <td>2021</td>\n",
       "      <td>TV-MA</td>\n",
       "      <td>1</td>\n",
       "      <td>Docuseries, Reality TV</td>\n",
       "      <td>Feuds, flirtations and toilet talk go down amo...</td>\n",
       "    </tr>\n",
       "    <tr>\n",
       "      <th>4</th>\n",
       "      <td>s5</td>\n",
       "      <td>TV Show</td>\n",
       "      <td>Kota Factory</td>\n",
       "      <td>No Record</td>\n",
       "      <td>Mayur More, Jitendra Kumar, Ranjan Raj, Alam K...</td>\n",
       "      <td>India</td>\n",
       "      <td>September 24, 2021</td>\n",
       "      <td>2021</td>\n",
       "      <td>TV-MA</td>\n",
       "      <td>2</td>\n",
       "      <td>International TV Shows, Romantic TV Shows, TV ...</td>\n",
       "      <td>In a city of coaching centers known to train I...</td>\n",
       "    </tr>\n",
       "    <tr>\n",
       "      <th>5</th>\n",
       "      <td>s6</td>\n",
       "      <td>TV Show</td>\n",
       "      <td>Midnight Mass</td>\n",
       "      <td>Mike Flanagan</td>\n",
       "      <td>Kate Siegel, Zach Gilford, Hamish Linklater, H...</td>\n",
       "      <td>No Record</td>\n",
       "      <td>September 24, 2021</td>\n",
       "      <td>2021</td>\n",
       "      <td>TV-MA</td>\n",
       "      <td>1</td>\n",
       "      <td>TV Dramas, TV Horror, TV Mysteries</td>\n",
       "      <td>The arrival of a charismatic young priest brin...</td>\n",
       "    </tr>\n",
       "  </tbody>\n",
       "</table>\n",
       "</div>"
      ],
      "text/plain": [
       "  show_id     type                  title         director  \\\n",
       "1      s2  TV Show          Blood & Water        No Record   \n",
       "2      s3  TV Show              Ganglands  Julien Leclercq   \n",
       "3      s4  TV Show  Jailbirds New Orleans        No Record   \n",
       "4      s5  TV Show           Kota Factory        No Record   \n",
       "5      s6  TV Show          Midnight Mass    Mike Flanagan   \n",
       "\n",
       "                                                cast       country  \\\n",
       "1  Ama Qamata, Khosi Ngema, Gail Mabalane, Thaban...  South Africa   \n",
       "2  Sami Bouajila, Tracy Gotoas, Samuel Jouy, Nabi...     No Record   \n",
       "3                                          No Record     No Record   \n",
       "4  Mayur More, Jitendra Kumar, Ranjan Raj, Alam K...         India   \n",
       "5  Kate Siegel, Zach Gilford, Hamish Linklater, H...     No Record   \n",
       "\n",
       "           date_added  release_year rating duration  \\\n",
       "1  September 24, 2021          2021  TV-MA       2    \n",
       "2  September 24, 2021          2021  TV-MA       1    \n",
       "3  September 24, 2021          2021  TV-MA       1    \n",
       "4  September 24, 2021          2021  TV-MA       2    \n",
       "5  September 24, 2021          2021  TV-MA       1    \n",
       "\n",
       "                                           listed_in  \\\n",
       "1    International TV Shows, TV Dramas, TV Mysteries   \n",
       "2  Crime TV Shows, International TV Shows, TV Act...   \n",
       "3                             Docuseries, Reality TV   \n",
       "4  International TV Shows, Romantic TV Shows, TV ...   \n",
       "5                 TV Dramas, TV Horror, TV Mysteries   \n",
       "\n",
       "                                         description  \n",
       "1  After crossing paths at a party, a Cape Town t...  \n",
       "2  To protect his family from a powerful drug lor...  \n",
       "3  Feuds, flirtations and toilet talk go down amo...  \n",
       "4  In a city of coaching centers known to train I...  \n",
       "5  The arrival of a charismatic young priest brin...  "
      ]
     },
     "execution_count": 17,
     "metadata": {},
     "output_type": "execute_result"
    }
   ],
   "source": [
    "df_tvshow = df[df['type'] == 'TV Show']\n",
    "df_tvshow.head()"
   ]
  },
  {
   "cell_type": "code",
   "execution_count": 18,
   "id": "2d9aad45",
   "metadata": {},
   "outputs": [
    {
     "data": {
      "text/plain": [
       "No Record                         2621\n",
       "Rajiv Chilaka                       19\n",
       "Raúl Campos, Jan Suter              18\n",
       "Suhas Kadav                         16\n",
       "Marcus Raboy                        16\n",
       "                                  ... \n",
       "Raymie Muzquiz, Stu Livingston       1\n",
       "Joe Menendez                         1\n",
       "Eric Bross                           1\n",
       "Will Eisenberg                       1\n",
       "Mozez Singh                          1\n",
       "Name: director, Length: 4527, dtype: int64"
      ]
     },
     "execution_count": 18,
     "metadata": {},
     "output_type": "execute_result"
    }
   ],
   "source": [
    "# getting the counts of directors in the dataset\n",
    "df['director'].value_counts()"
   ]
  },
  {
   "cell_type": "code",
   "execution_count": 19,
   "id": "10377cce",
   "metadata": {},
   "outputs": [
    {
     "data": {
      "text/html": [
       "<div>\n",
       "<style scoped>\n",
       "    .dataframe tbody tr th:only-of-type {\n",
       "        vertical-align: middle;\n",
       "    }\n",
       "\n",
       "    .dataframe tbody tr th {\n",
       "        vertical-align: top;\n",
       "    }\n",
       "\n",
       "    .dataframe thead th {\n",
       "        text-align: right;\n",
       "    }\n",
       "</style>\n",
       "<table border=\"1\" class=\"dataframe\">\n",
       "  <thead>\n",
       "    <tr style=\"text-align: right;\">\n",
       "      <th></th>\n",
       "      <th></th>\n",
       "      <th>0</th>\n",
       "    </tr>\n",
       "  </thead>\n",
       "  <tbody>\n",
       "    <tr>\n",
       "      <th>1</th>\n",
       "      <th>0</th>\n",
       "      <td>No Record</td>\n",
       "    </tr>\n",
       "    <tr>\n",
       "      <th>2</th>\n",
       "      <th>0</th>\n",
       "      <td>Julien Leclercq</td>\n",
       "    </tr>\n",
       "    <tr>\n",
       "      <th>3</th>\n",
       "      <th>0</th>\n",
       "      <td>No Record</td>\n",
       "    </tr>\n",
       "    <tr>\n",
       "      <th>4</th>\n",
       "      <th>0</th>\n",
       "      <td>No Record</td>\n",
       "    </tr>\n",
       "    <tr>\n",
       "      <th>5</th>\n",
       "      <th>0</th>\n",
       "      <td>Mike Flanagan</td>\n",
       "    </tr>\n",
       "    <tr>\n",
       "      <th>8</th>\n",
       "      <th>0</th>\n",
       "      <td>Andy Devonshire</td>\n",
       "    </tr>\n",
       "    <tr>\n",
       "      <th>10</th>\n",
       "      <th>0</th>\n",
       "      <td>No Record</td>\n",
       "    </tr>\n",
       "    <tr>\n",
       "      <th>11</th>\n",
       "      <th>0</th>\n",
       "      <td>Kongkiat Komesiri</td>\n",
       "    </tr>\n",
       "    <tr>\n",
       "      <th>14</th>\n",
       "      <th>0</th>\n",
       "      <td>No Record</td>\n",
       "    </tr>\n",
       "    <tr>\n",
       "      <th>15</th>\n",
       "      <th>0</th>\n",
       "      <td>No Record</td>\n",
       "    </tr>\n",
       "    <tr>\n",
       "      <th>17</th>\n",
       "      <th>0</th>\n",
       "      <td>No Record</td>\n",
       "    </tr>\n",
       "    <tr>\n",
       "      <th>19</th>\n",
       "      <th>0</th>\n",
       "      <td>No Record</td>\n",
       "    </tr>\n",
       "    <tr>\n",
       "      <th>20</th>\n",
       "      <th>0</th>\n",
       "      <td>Olivier Megaton</td>\n",
       "    </tr>\n",
       "    <tr>\n",
       "      <th>21</th>\n",
       "      <th>0</th>\n",
       "      <td>No Record</td>\n",
       "    </tr>\n",
       "    <tr>\n",
       "      <th>25</th>\n",
       "      <th>0</th>\n",
       "      <td>No Record</td>\n",
       "    </tr>\n",
       "    <tr>\n",
       "      <th>31</th>\n",
       "      <th>0</th>\n",
       "      <td>No Record</td>\n",
       "    </tr>\n",
       "    <tr>\n",
       "      <th>32</th>\n",
       "      <th>0</th>\n",
       "      <td>No Record</td>\n",
       "    </tr>\n",
       "    <tr>\n",
       "      <th>33</th>\n",
       "      <th>0</th>\n",
       "      <td>No Record</td>\n",
       "    </tr>\n",
       "    <tr>\n",
       "      <th>34</th>\n",
       "      <th>0</th>\n",
       "      <td>No Record</td>\n",
       "    </tr>\n",
       "    <tr>\n",
       "      <th>37</th>\n",
       "      <th>0</th>\n",
       "      <td>No Record</td>\n",
       "    </tr>\n",
       "  </tbody>\n",
       "</table>\n",
       "</div>"
      ],
      "text/plain": [
       "                      0\n",
       "1  0          No Record\n",
       "2  0    Julien Leclercq\n",
       "3  0          No Record\n",
       "4  0          No Record\n",
       "5  0      Mike Flanagan\n",
       "8  0    Andy Devonshire\n",
       "10 0          No Record\n",
       "11 0  Kongkiat Komesiri\n",
       "14 0          No Record\n",
       "15 0          No Record\n",
       "17 0          No Record\n",
       "19 0          No Record\n",
       "20 0    Olivier Megaton\n",
       "21 0          No Record\n",
       "25 0          No Record\n",
       "31 0          No Record\n",
       "32 0          No Record\n",
       "33 0          No Record\n",
       "34 0          No Record\n",
       "37 0          No Record"
      ]
     },
     "execution_count": 19,
     "metadata": {},
     "output_type": "execute_result"
    }
   ],
   "source": [
    "# Split the movie directors to only include 1 name\n",
    "tvshow_directors = df_tvshow['director'].str.split(',', expand=True).stack()\n",
    "# convert to a dataframe\n",
    "tvshow_directors = pd.DataFrame(tvshow_directors)\n",
    "tvshow_directors.head(20)"
   ]
  },
  {
   "cell_type": "code",
   "execution_count": 20,
   "id": "fdb14dd5",
   "metadata": {},
   "outputs": [],
   "source": [
    "#top tv show directors\n",
    "\n",
    "tvshow_directors.columns = ['Directors']"
   ]
  },
  {
   "cell_type": "code",
   "execution_count": 30,
   "id": "74abd5cd",
   "metadata": {},
   "outputs": [],
   "source": [
    "tvshow_directors = tvshow_directors[tvshow_directors['Directors'] != 'No Record']\n",
    "\n",
    "tvshow_directors = tvshow_directors.groupby(['Directors']).size().reset_index(name='Total TV Show')"
   ]
  },
  {
   "cell_type": "code",
   "execution_count": 31,
   "id": "c60f89cb",
   "metadata": {},
   "outputs": [
    {
     "data": {
      "text/html": [
       "<div>\n",
       "<style scoped>\n",
       "    .dataframe tbody tr th:only-of-type {\n",
       "        vertical-align: middle;\n",
       "    }\n",
       "\n",
       "    .dataframe tbody tr th {\n",
       "        vertical-align: top;\n",
       "    }\n",
       "\n",
       "    .dataframe thead th {\n",
       "        text-align: right;\n",
       "    }\n",
       "</style>\n",
       "<table border=\"1\" class=\"dataframe\">\n",
       "  <thead>\n",
       "    <tr style=\"text-align: right;\">\n",
       "      <th></th>\n",
       "      <th>Directors</th>\n",
       "      <th>Total TV Show</th>\n",
       "    </tr>\n",
       "  </thead>\n",
       "  <tbody>\n",
       "    <tr>\n",
       "      <th>0</th>\n",
       "      <td>Abhishek Chaubey</td>\n",
       "      <td>1</td>\n",
       "    </tr>\n",
       "    <tr>\n",
       "      <th>206</th>\n",
       "      <td>Malik Nejer</td>\n",
       "      <td>1</td>\n",
       "    </tr>\n",
       "    <tr>\n",
       "      <th>204</th>\n",
       "      <td>Lynn Novick</td>\n",
       "      <td>1</td>\n",
       "    </tr>\n",
       "    <tr>\n",
       "      <th>203</th>\n",
       "      <td>Luis Alfaro</td>\n",
       "      <td>1</td>\n",
       "    </tr>\n",
       "    <tr>\n",
       "      <th>202</th>\n",
       "      <td>Luis Alberto Restrepo</td>\n",
       "      <td>1</td>\n",
       "    </tr>\n",
       "    <tr>\n",
       "      <th>201</th>\n",
       "      <td>Lee Yoon-jung</td>\n",
       "      <td>1</td>\n",
       "    </tr>\n",
       "    <tr>\n",
       "      <th>200</th>\n",
       "      <td>Lee Toland Krieger</td>\n",
       "      <td>1</td>\n",
       "    </tr>\n",
       "    <tr>\n",
       "      <th>199</th>\n",
       "      <td>Lee Kyoungmi</td>\n",
       "      <td>1</td>\n",
       "    </tr>\n",
       "    <tr>\n",
       "      <th>198</th>\n",
       "      <td>Lee Eung-bok</td>\n",
       "      <td>1</td>\n",
       "    </tr>\n",
       "    <tr>\n",
       "      <th>197</th>\n",
       "      <td>Laurent Bouzereau</td>\n",
       "      <td>1</td>\n",
       "    </tr>\n",
       "  </tbody>\n",
       "</table>\n",
       "</div>"
      ],
      "text/plain": [
       "                 Directors  Total TV Show\n",
       "0         Abhishek Chaubey              1\n",
       "206            Malik Nejer              1\n",
       "204            Lynn Novick              1\n",
       "203            Luis Alfaro              1\n",
       "202  Luis Alberto Restrepo              1\n",
       "201          Lee Yoon-jung              1\n",
       "200     Lee Toland Krieger              1\n",
       "199           Lee Kyoungmi              1\n",
       "198           Lee Eung-bok              1\n",
       "197      Laurent Bouzereau              1"
      ]
     },
     "execution_count": 31,
     "metadata": {},
     "output_type": "execute_result"
    }
   ],
   "source": [
    "top_directors = pd.DataFrame(tvshow_directors.sort_values(by=['Total TV Show'], ascending=False)).head(10)\n",
    "top_directors"
   ]
  },
  {
   "cell_type": "code",
   "execution_count": 32,
   "id": "8df6bd32",
   "metadata": {},
   "outputs": [
    {
     "data": {
      "image/png": "[encoded data removed]",
      "text/plain": [
       "<Figure size 432x288 with 1 Axes>"
      ]
     },
     "metadata": {
      "needs_background": "light"
     },
     "output_type": "display_data"
    }
   ],
   "source": [
    "sns.barplot(y='Directors', x='Total TV Show', data=top_directors, color='green')\n",
    "plt.title('Top TV Show directors');"
   ]
  },
  {
   "cell_type": "code",
   "execution_count": 33,
   "id": "4794e345",
   "metadata": {},
   "outputs": [],
   "source": [
    "#this shows that most tv show directors haven't produced more than one tv show"
   ]
  },
  {
   "cell_type": "markdown",
   "id": "021c7a75",
   "metadata": {},
   "source": [
    "## TV SHOW DISTRIBUTION"
   ]
  },
  {
   "cell_type": "code",
   "execution_count": 34,
   "id": "ea5f49fc",
   "metadata": {},
   "outputs": [
    {
     "data": {
      "image/png": "[encoded data removed]",
      "text/plain": [
       "<Figure size 432x288 with 1 Axes>"
      ]
     },
     "metadata": {
      "needs_background": "light"
     },
     "output_type": "display_data"
    }
   ],
   "source": [
    "df_tvshow['duration'].hist(bins=20)\n",
    "plt.xlabel('Duration in hours')\n",
    "plt.ylabel('Count')\n",
    "plt.title('Distribution showing the most common TVshow durations');"
   ]
  },
  {
   "cell_type": "markdown",
   "id": "26b92088",
   "metadata": {},
   "source": [
    "## TOP TV SHOW COUNTRY\n"
   ]
  },
  {
   "cell_type": "code",
   "execution_count": 38,
   "id": "caa8c7db",
   "metadata": {},
   "outputs": [],
   "source": [
    "# Expanding the countries to only include one country \n",
    "countries = df_tvshow['country'].str.split(',', expand=True).stack()\n",
    "# removing the white sapces before and after country names to avoid duplicates\n",
    "countries = countries.str.strip(' ')"
   ]
  },
  {
   "cell_type": "code",
   "execution_count": 39,
   "id": "7469ce33",
   "metadata": {},
   "outputs": [
    {
     "data": {
      "text/plain": [
       "United States           932\n",
       "No Record               390\n",
       "United Kingdom          271\n",
       "Japan                   197\n",
       "South Korea             170\n",
       "                       ... \n",
       "Malta                     1\n",
       "United Arab Emirates      1\n",
       "Belarus                   1\n",
       "Uruguay                   1\n",
       "Switzerland               1\n",
       "Length: 67, dtype: int64"
      ]
     },
     "execution_count": 39,
     "metadata": {},
     "output_type": "execute_result"
    }
   ],
   "source": [
    "countries.value_counts()"
   ]
  },
  {
   "cell_type": "code",
   "execution_count": 40,
   "id": "f8443b61",
   "metadata": {},
   "outputs": [],
   "source": [
    "top_countries = countries.value_counts().head(15)"
   ]
  },
  {
   "cell_type": "code",
   "execution_count": 41,
   "id": "56c60277",
   "metadata": {},
   "outputs": [
    {
     "data": {
      "text/html": [
       "<div>\n",
       "<style scoped>\n",
       "    .dataframe tbody tr th:only-of-type {\n",
       "        vertical-align: middle;\n",
       "    }\n",
       "\n",
       "    .dataframe tbody tr th {\n",
       "        vertical-align: top;\n",
       "    }\n",
       "\n",
       "    .dataframe thead th {\n",
       "        text-align: right;\n",
       "    }\n",
       "</style>\n",
       "<table border=\"1\" class=\"dataframe\">\n",
       "  <thead>\n",
       "    <tr style=\"text-align: right;\">\n",
       "      <th></th>\n",
       "      <th>TV Show count</th>\n",
       "    </tr>\n",
       "  </thead>\n",
       "  <tbody>\n",
       "    <tr>\n",
       "      <th>United States</th>\n",
       "      <td>932</td>\n",
       "    </tr>\n",
       "    <tr>\n",
       "      <th>No Record</th>\n",
       "      <td>390</td>\n",
       "    </tr>\n",
       "    <tr>\n",
       "      <th>United Kingdom</th>\n",
       "      <td>271</td>\n",
       "    </tr>\n",
       "    <tr>\n",
       "      <th>Japan</th>\n",
       "      <td>197</td>\n",
       "    </tr>\n",
       "    <tr>\n",
       "      <th>South Korea</th>\n",
       "      <td>170</td>\n",
       "    </tr>\n",
       "    <tr>\n",
       "      <th>Canada</th>\n",
       "      <td>126</td>\n",
       "    </tr>\n",
       "    <tr>\n",
       "      <th>France</th>\n",
       "      <td>90</td>\n",
       "    </tr>\n",
       "    <tr>\n",
       "      <th>India</th>\n",
       "      <td>84</td>\n",
       "    </tr>\n",
       "    <tr>\n",
       "      <th>Taiwan</th>\n",
       "      <td>70</td>\n",
       "    </tr>\n",
       "    <tr>\n",
       "      <th>Australia</th>\n",
       "      <td>64</td>\n",
       "    </tr>\n",
       "    <tr>\n",
       "      <th>Spain</th>\n",
       "      <td>61</td>\n",
       "    </tr>\n",
       "    <tr>\n",
       "      <th>Mexico</th>\n",
       "      <td>58</td>\n",
       "    </tr>\n",
       "    <tr>\n",
       "      <th>China</th>\n",
       "      <td>48</td>\n",
       "    </tr>\n",
       "    <tr>\n",
       "      <th>Germany</th>\n",
       "      <td>44</td>\n",
       "    </tr>\n",
       "    <tr>\n",
       "      <th>Colombia</th>\n",
       "      <td>32</td>\n",
       "    </tr>\n",
       "  </tbody>\n",
       "</table>\n",
       "</div>"
      ],
      "text/plain": [
       "                TV Show count\n",
       "United States             932\n",
       "No Record                 390\n",
       "United Kingdom            271\n",
       "Japan                     197\n",
       "South Korea               170\n",
       "Canada                    126\n",
       "France                     90\n",
       "India                      84\n",
       "Taiwan                     70\n",
       "Australia                  64\n",
       "Spain                      61\n",
       "Mexico                     58\n",
       "China                      48\n",
       "Germany                    44\n",
       "Colombia                   32"
      ]
     },
     "execution_count": 41,
     "metadata": {},
     "output_type": "execute_result"
    }
   ],
   "source": [
    "top_countries = pd.DataFrame(top_countries)\n",
    "top_countries.columns = ['TV Show count']\n",
    "top_countries"
   ]
  },
  {
   "cell_type": "code",
   "execution_count": 44,
   "id": "1a6b3eef",
   "metadata": {},
   "outputs": [
    {
     "data": {
      "image/png": "[encoded data removed]",
      "text/plain": [
       "<Figure size 1224x720 with 1 Axes>"
      ]
     },
     "metadata": {
      "needs_background": "light"
     },
     "output_type": "display_data"
    }
   ],
   "source": [
    "# A bar plot to show the top movie producing countries\n",
    "plt.figure(figsize=(17, 10))\n",
    "sns.barplot(x=top_countries.index, y=top_countries['TV Show count'], data=top_countries, color='purple')\n",
    "plt.xlabel('Countries')\n",
    "plt.title('Top TV Show producing countries');"
   ]
  },
  {
   "cell_type": "code",
   "execution_count": 45,
   "id": "452af54c",
   "metadata": {},
   "outputs": [],
   "source": [
    "# This bar chart shows that United States is the largest TV Show producing country"
   ]
  },
  {
   "cell_type": "markdown",
   "id": "8c261a2e",
   "metadata": {},
   "source": [
    "## TOP TV SHOW ACTORS"
   ]
  },
  {
   "cell_type": "code",
   "execution_count": 47,
   "id": "ce246b23",
   "metadata": {},
   "outputs": [
    {
     "data": {
      "text/html": [
       "<div>\n",
       "<style scoped>\n",
       "    .dataframe tbody tr th:only-of-type {\n",
       "        vertical-align: middle;\n",
       "    }\n",
       "\n",
       "    .dataframe tbody tr th {\n",
       "        vertical-align: top;\n",
       "    }\n",
       "\n",
       "    .dataframe thead th {\n",
       "        text-align: right;\n",
       "    }\n",
       "</style>\n",
       "<table border=\"1\" class=\"dataframe\">\n",
       "  <thead>\n",
       "    <tr style=\"text-align: right;\">\n",
       "      <th></th>\n",
       "      <th></th>\n",
       "      <th>0</th>\n",
       "    </tr>\n",
       "  </thead>\n",
       "  <tbody>\n",
       "    <tr>\n",
       "      <th rowspan=\"5\" valign=\"top\">1</th>\n",
       "      <th>0</th>\n",
       "      <td>Ama Qamata</td>\n",
       "    </tr>\n",
       "    <tr>\n",
       "      <th>1</th>\n",
       "      <td>Khosi Ngema</td>\n",
       "    </tr>\n",
       "    <tr>\n",
       "      <th>2</th>\n",
       "      <td>Gail Mabalane</td>\n",
       "    </tr>\n",
       "    <tr>\n",
       "      <th>3</th>\n",
       "      <td>Thabang Molaba</td>\n",
       "    </tr>\n",
       "    <tr>\n",
       "      <th>4</th>\n",
       "      <td>Dillon Windvogel</td>\n",
       "    </tr>\n",
       "  </tbody>\n",
       "</table>\n",
       "</div>"
      ],
      "text/plain": [
       "                     0\n",
       "1 0         Ama Qamata\n",
       "  1        Khosi Ngema\n",
       "  2      Gail Mabalane\n",
       "  3     Thabang Molaba\n",
       "  4   Dillon Windvogel"
      ]
     },
     "execution_count": 47,
     "metadata": {},
     "output_type": "execute_result"
    }
   ],
   "source": [
    "actors = df_tvshow['cast'].str.split(',', expand=True).stack()\n",
    "actors = pd.DataFrame(actors)\n",
    "actors.head()"
   ]
  },
  {
   "cell_type": "code",
   "execution_count": 48,
   "id": "bd81163a",
   "metadata": {},
   "outputs": [],
   "source": [
    "actors.columns = ['cast']"
   ]
  },
  {
   "cell_type": "code",
   "execution_count": 51,
   "id": "fea91ad1",
   "metadata": {},
   "outputs": [
    {
     "data": {
      "text/html": [
       "<div>\n",
       "<style scoped>\n",
       "    .dataframe tbody tr th:only-of-type {\n",
       "        vertical-align: middle;\n",
       "    }\n",
       "\n",
       "    .dataframe tbody tr th {\n",
       "        vertical-align: top;\n",
       "    }\n",
       "\n",
       "    .dataframe thead th {\n",
       "        text-align: right;\n",
       "    }\n",
       "</style>\n",
       "<table border=\"1\" class=\"dataframe\">\n",
       "  <thead>\n",
       "    <tr style=\"text-align: right;\">\n",
       "      <th></th>\n",
       "      <th></th>\n",
       "      <th>cast</th>\n",
       "    </tr>\n",
       "  </thead>\n",
       "  <tbody>\n",
       "    <tr>\n",
       "      <th rowspan=\"5\" valign=\"top\">1</th>\n",
       "      <th>0</th>\n",
       "      <td>Ama Qamata</td>\n",
       "    </tr>\n",
       "    <tr>\n",
       "      <th>1</th>\n",
       "      <td>Khosi Ngema</td>\n",
       "    </tr>\n",
       "    <tr>\n",
       "      <th>2</th>\n",
       "      <td>Gail Mabalane</td>\n",
       "    </tr>\n",
       "    <tr>\n",
       "      <th>3</th>\n",
       "      <td>Thabang Molaba</td>\n",
       "    </tr>\n",
       "    <tr>\n",
       "      <th>4</th>\n",
       "      <td>Dillon Windvogel</td>\n",
       "    </tr>\n",
       "  </tbody>\n",
       "</table>\n",
       "</div>"
      ],
      "text/plain": [
       "                  cast\n",
       "1 0         Ama Qamata\n",
       "  1        Khosi Ngema\n",
       "  2      Gail Mabalane\n",
       "  3     Thabang Molaba\n",
       "  4   Dillon Windvogel"
      ]
     },
     "execution_count": 51,
     "metadata": {},
     "output_type": "execute_result"
    }
   ],
   "source": [
    "actors = actors[actors['cast'] != 'No Record']\n",
    "actors.head()"
   ]
  },
  {
   "cell_type": "code",
   "execution_count": 52,
   "id": "52bee269",
   "metadata": {},
   "outputs": [
    {
     "data": {
      "text/plain": [
       "cast              \n",
       " Takahiro Sakurai     24\n",
       " Yuki Kaji            17\n",
       " Junichi Suwabe       17\n",
       " Ai Kayano            16\n",
       "David Attenborough    14\n",
       " Daisuke Ono          14\n",
       " Yoshimasa Hosoya     13\n",
       " Yuichi Nakamura      13\n",
       " Takehito Koyasu      13\n",
       " Kana Hanazawa        12\n",
       "dtype: int64"
      ]
     },
     "execution_count": 52,
     "metadata": {},
     "output_type": "execute_result"
    }
   ],
   "source": [
    "# Selecting the top 15 actors\n",
    "top_actors = actors.value_counts().head(10)\n",
    "top_actors"
   ]
  },
  {
   "cell_type": "code",
   "execution_count": 53,
   "id": "29c5900c",
   "metadata": {},
   "outputs": [
    {
     "data": {
      "text/html": [
       "<div>\n",
       "<style scoped>\n",
       "    .dataframe tbody tr th:only-of-type {\n",
       "        vertical-align: middle;\n",
       "    }\n",
       "\n",
       "    .dataframe tbody tr th {\n",
       "        vertical-align: top;\n",
       "    }\n",
       "\n",
       "    .dataframe thead th {\n",
       "        text-align: right;\n",
       "    }\n",
       "</style>\n",
       "<table border=\"1\" class=\"dataframe\">\n",
       "  <thead>\n",
       "    <tr style=\"text-align: right;\">\n",
       "      <th></th>\n",
       "      <th>TV Show acted</th>\n",
       "    </tr>\n",
       "    <tr>\n",
       "      <th>cast</th>\n",
       "      <th></th>\n",
       "    </tr>\n",
       "  </thead>\n",
       "  <tbody>\n",
       "    <tr>\n",
       "      <th>Takahiro Sakurai</th>\n",
       "      <td>24</td>\n",
       "    </tr>\n",
       "    <tr>\n",
       "      <th>Yuki Kaji</th>\n",
       "      <td>17</td>\n",
       "    </tr>\n",
       "    <tr>\n",
       "      <th>Junichi Suwabe</th>\n",
       "      <td>17</td>\n",
       "    </tr>\n",
       "    <tr>\n",
       "      <th>Ai Kayano</th>\n",
       "      <td>16</td>\n",
       "    </tr>\n",
       "    <tr>\n",
       "      <th>David Attenborough</th>\n",
       "      <td>14</td>\n",
       "    </tr>\n",
       "    <tr>\n",
       "      <th>Daisuke Ono</th>\n",
       "      <td>14</td>\n",
       "    </tr>\n",
       "    <tr>\n",
       "      <th>Yoshimasa Hosoya</th>\n",
       "      <td>13</td>\n",
       "    </tr>\n",
       "    <tr>\n",
       "      <th>Yuichi Nakamura</th>\n",
       "      <td>13</td>\n",
       "    </tr>\n",
       "    <tr>\n",
       "      <th>Takehito Koyasu</th>\n",
       "      <td>13</td>\n",
       "    </tr>\n",
       "    <tr>\n",
       "      <th>Kana Hanazawa</th>\n",
       "      <td>12</td>\n",
       "    </tr>\n",
       "  </tbody>\n",
       "</table>\n",
       "</div>"
      ],
      "text/plain": [
       "                    TV Show acted\n",
       "cast                             \n",
       " Takahiro Sakurai              24\n",
       " Yuki Kaji                     17\n",
       " Junichi Suwabe                17\n",
       " Ai Kayano                     16\n",
       "David Attenborough             14\n",
       " Daisuke Ono                   14\n",
       " Yoshimasa Hosoya              13\n",
       " Yuichi Nakamura               13\n",
       " Takehito Koyasu               13\n",
       " Kana Hanazawa                 12"
      ]
     },
     "execution_count": 53,
     "metadata": {},
     "output_type": "execute_result"
    }
   ],
   "source": [
    "top_actors = pd.DataFrame(top_actors)\n",
    "# renaming the column\n",
    "top_actors.columns = ['TV Show acted']\n",
    "top_actors"
   ]
  },
  {
   "cell_type": "code",
   "execution_count": 59,
   "id": "004b1e3e",
   "metadata": {},
   "outputs": [
    {
     "data": {
      "image/png": "[encoded data removed]",
      "text/plain": [
       "<Figure size 432x288 with 1 Axes>"
      ]
     },
     "metadata": {
      "needs_background": "light"
     },
     "output_type": "display_data"
    }
   ],
   "source": [
    "# A horizontal bar chart to show the top movie actors\n",
    "top_actors.plot(kind='barh',color='purple')\n",
    "plt.xlabel('Count of TV Show')\n",
    "plt.ylabel('Actors')\n",
    "plt.title('Top TV Show actors');"
   ]
  },
  {
   "cell_type": "code",
   "execution_count": 60,
   "id": "2b07e5f2",
   "metadata": {},
   "outputs": [],
   "source": [
    "# This bar plot shows that the top actor is Takahiro Sakurai"
   ]
  },
  {
   "cell_type": "code",
   "execution_count": 65,
   "id": "9e92987b",
   "metadata": {},
   "outputs": [],
   "source": [
    "##Release year of movies and TV SHOW in the last 5year"
   ]
  },
  {
   "cell_type": "code",
   "execution_count": 66,
   "id": "9deba7d1",
   "metadata": {},
   "outputs": [
    {
     "data": {
      "text/plain": [
       "2018    1146\n",
       "2017    1030\n",
       "2019    1030\n",
       "2020     953\n",
       "2016     901\n",
       "        ... \n",
       "1959       1\n",
       "1925       1\n",
       "1961       1\n",
       "1947       1\n",
       "1966       1\n",
       "Name: release_year, Length: 74, dtype: int64"
      ]
     },
     "execution_count": 66,
     "metadata": {},
     "output_type": "execute_result"
    }
   ],
   "source": [
    "df['release_year'].value_counts()"
   ]
  },
  {
   "cell_type": "code",
   "execution_count": 67,
   "id": "0f16f5a1",
   "metadata": {},
   "outputs": [
    {
     "data": {
      "text/html": [
       "<div>\n",
       "<style scoped>\n",
       "    .dataframe tbody tr th:only-of-type {\n",
       "        vertical-align: middle;\n",
       "    }\n",
       "\n",
       "    .dataframe tbody tr th {\n",
       "        vertical-align: top;\n",
       "    }\n",
       "\n",
       "    .dataframe thead th {\n",
       "        text-align: right;\n",
       "    }\n",
       "</style>\n",
       "<table border=\"1\" class=\"dataframe\">\n",
       "  <thead>\n",
       "    <tr style=\"text-align: right;\">\n",
       "      <th></th>\n",
       "      <th>type</th>\n",
       "      <th>release_year</th>\n",
       "    </tr>\n",
       "  </thead>\n",
       "  <tbody>\n",
       "    <tr>\n",
       "      <th>0</th>\n",
       "      <td>Movie</td>\n",
       "      <td>2020</td>\n",
       "    </tr>\n",
       "    <tr>\n",
       "      <th>1</th>\n",
       "      <td>TV Show</td>\n",
       "      <td>2021</td>\n",
       "    </tr>\n",
       "    <tr>\n",
       "      <th>2</th>\n",
       "      <td>TV Show</td>\n",
       "      <td>2021</td>\n",
       "    </tr>\n",
       "    <tr>\n",
       "      <th>3</th>\n",
       "      <td>TV Show</td>\n",
       "      <td>2021</td>\n",
       "    </tr>\n",
       "    <tr>\n",
       "      <th>4</th>\n",
       "      <td>TV Show</td>\n",
       "      <td>2021</td>\n",
       "    </tr>\n",
       "    <tr>\n",
       "      <th>...</th>\n",
       "      <td>...</td>\n",
       "      <td>...</td>\n",
       "    </tr>\n",
       "    <tr>\n",
       "      <th>8774</th>\n",
       "      <td>Movie</td>\n",
       "      <td>2018</td>\n",
       "    </tr>\n",
       "    <tr>\n",
       "      <th>8775</th>\n",
       "      <td>TV Show</td>\n",
       "      <td>2018</td>\n",
       "    </tr>\n",
       "    <tr>\n",
       "      <th>8786</th>\n",
       "      <td>Movie</td>\n",
       "      <td>2017</td>\n",
       "    </tr>\n",
       "    <tr>\n",
       "      <th>8787</th>\n",
       "      <td>Movie</td>\n",
       "      <td>2017</td>\n",
       "    </tr>\n",
       "    <tr>\n",
       "      <th>8803</th>\n",
       "      <td>TV Show</td>\n",
       "      <td>2018</td>\n",
       "    </tr>\n",
       "  </tbody>\n",
       "</table>\n",
       "<p>4751 rows × 2 columns</p>\n",
       "</div>"
      ],
      "text/plain": [
       "         type  release_year\n",
       "0       Movie          2020\n",
       "1     TV Show          2021\n",
       "2     TV Show          2021\n",
       "3     TV Show          2021\n",
       "4     TV Show          2021\n",
       "...       ...           ...\n",
       "8774    Movie          2018\n",
       "8775  TV Show          2018\n",
       "8786    Movie          2017\n",
       "8787    Movie          2017\n",
       "8803  TV Show          2018\n",
       "\n",
       "[4751 rows x 2 columns]"
      ]
     },
     "execution_count": 67,
     "metadata": {},
     "output_type": "execute_result"
    }
   ],
   "source": [
    "# Selecting two columns to perform a bi-variate analysis\n",
    "df_release = df[['type','release_year']]\n",
    "# Selecting the last 10 years\n",
    "last_5_years = df_release[df['release_year'] >= 2017]\n",
    "last_5_years"
   ]
  },
  {
   "cell_type": "code",
   "execution_count": 70,
   "id": "fb635843",
   "metadata": {},
   "outputs": [
    {
     "data": {
      "image/png": "[encoded data removed]",
      "text/plain": [
       "<Figure size 1080x576 with 1 Axes>"
      ]
     },
     "metadata": {
      "needs_background": "light"
     },
     "output_type": "display_data"
    }
   ],
   "source": [
    "# A bar plot showing the counts of movies and series produced in the last 10 years\n",
    "plt.figure(figsize=(15, 8))\n",
    "sns.countplot(x='release_year', data=last_5_years, hue='type', palette='viridis')\n",
    "plt.title('Count of releases in the past 5 years');"
   ]
  },
  {
   "cell_type": "code",
   "execution_count": 71,
   "id": "7ef6b930",
   "metadata": {},
   "outputs": [],
   "source": [
    "# this bar plot hows that the highest number of movies produced were in the years 2017 and 2018\n",
    "# It also shows that the highest number of tv shows were produced in 2020"
   ]
  },
  {
   "cell_type": "code",
   "execution_count": 72,
   "id": "5d9f647b",
   "metadata": {},
   "outputs": [
    {
     "data": {
      "image/png": "[encoded data removed]",
      "text/plain": [
       "<Figure size 1008x576 with 1 Axes>"
      ]
     },
     "metadata": {
      "needs_background": "light"
     },
     "output_type": "display_data"
    }
   ],
   "source": [
    "# A count plot showing the total movies and Tv shows released\n",
    "plt.figure(figsize=(14, 8))\n",
    "sns.countplot(x='release_year', data=last_5_years, palette='viridis')\n",
    "plt.title('Total Content Released');"
   ]
  },
  {
   "cell_type": "markdown",
   "id": "15aeea49",
   "metadata": {},
   "source": [
    "## Directors with the longest TV Shows"
   ]
  },
  {
   "cell_type": "code",
   "execution_count": 80,
   "id": "404f4cd8",
   "metadata": {},
   "outputs": [],
   "source": [
    "longest_tvshow = df_tvshow[['director','duration']]\n",
    "longest_tvshow= longest_tvshow[longest_tvshow['director'] != 'No Record']"
   ]
  },
  {
   "cell_type": "code",
   "execution_count": 103,
   "id": "6bd7557b",
   "metadata": {},
   "outputs": [],
   "source": [
    "directors_longest = longest_tvshow[longest_tvshow['duration']> '210' ]"
   ]
  },
  {
   "cell_type": "code",
   "execution_count": 104,
   "id": "4dcb9008",
   "metadata": {},
   "outputs": [],
   "source": [
    "directors_longest = directors_longest.set_index(['director'])"
   ]
  },
  {
   "cell_type": "code",
   "execution_count": null,
   "id": "22b4d8ea",
   "metadata": {},
   "outputs": [],
   "source": []
  },
  {
   "cell_type": "markdown",
   "id": "0bac8ff1",
   "metadata": {},
   "source": [
    "##RATINGS"
   ]
  },
  {
   "cell_type": "raw",
   "id": "dff3e661",
   "metadata": {},
   "source": []
  },
  {
   "cell_type": "code",
   "execution_count": 92,
   "id": "dc370c7a",
   "metadata": {},
   "outputs": [
    {
     "data": {
      "text/plain": [
       "array(['PG-13', 'TV-MA', 'PG', 'TV-14', 'TV-PG', 'TV-Y', 'TV-Y7', 'R',\n",
       "       'TV-G', 'G', 'NC-17', 'NR', 'TV-Y7-FV', 'UR'], dtype=object)"
      ]
     },
     "execution_count": 92,
     "metadata": {},
     "output_type": "execute_result"
    }
   ],
   "source": [
    "df['rating'].unique()"
   ]
  },
  {
   "cell_type": "code",
   "execution_count": 93,
   "id": "69dadab1",
   "metadata": {},
   "outputs": [
    {
     "data": {
      "text/plain": [
       "TV-MA       3205\n",
       "TV-14       2157\n",
       "TV-PG        861\n",
       "R            799\n",
       "PG-13        490\n",
       "TV-Y7        333\n",
       "TV-Y         306\n",
       "PG           287\n",
       "TV-G         220\n",
       "NR            79\n",
       "G             41\n",
       "TV-Y7-FV       6\n",
       "NC-17          3\n",
       "UR             3\n",
       "Name: rating, dtype: int64"
      ]
     },
     "execution_count": 93,
     "metadata": {},
     "output_type": "execute_result"
    }
   ],
   "source": [
    "df['rating'].value_counts()"
   ]
  },
  {
   "cell_type": "code",
   "execution_count": 94,
   "id": "c18af0c0",
   "metadata": {},
   "outputs": [
    {
     "data": {
      "text/plain": [
       "Mature Audience      4089\n",
       "Teens                3273\n",
       "Parental Guidance     861\n",
       "General Audience      567\n",
       "Name: rating, dtype: int64"
      ]
     },
     "execution_count": 94,
     "metadata": {},
     "output_type": "execute_result"
    }
   ],
   "source": [
    "# creating a dictionary to reorganise the ratings\n",
    "new_categories = {\n",
    "    'TV-PG': 'Parental Guidance',\n",
    "    'TV-MA': 'Mature Audience',\n",
    "    'TV-Y7-FV': 'Teens',\n",
    "    'TV-Y7': 'Teens',\n",
    "    'TV-14': 'Teens',\n",
    "    'R': 'Mature Audience',\n",
    "    'TV-Y': 'General Audience',\n",
    "    'NR': 'Mature Audience',\n",
    "    'PG-13': 'Teens',\n",
    "    'TV-G': 'General Audience',\n",
    "    'PG': 'Teens',\n",
    "    'G': 'General Audience',\n",
    "    'UR': 'Mature Audience',\n",
    "    'NC-17': 'Mature Audience'\n",
    "}\n",
    "df[\"rating\"] = df['rating'].replace(new_categories)\n",
    "df['rating'].value_counts()"
   ]
  },
  {
   "cell_type": "code",
   "execution_count": 95,
   "id": "abff6fc3",
   "metadata": {},
   "outputs": [
    {
     "data": {
      "image/png": "[encoded data removed]",
      "text/plain": [
       "<Figure size 864x576 with 1 Axes>"
      ]
     },
     "metadata": {
      "needs_background": "light"
     },
     "output_type": "display_data"
    }
   ],
   "source": [
    "plt.figure(figsize=(12,8))\n",
    "sns.countplot(x=\"rating\", data=df, palette=\"viridis\")\n",
    "plt.title(\"Count of Rating by Movie and Shows\");"
   ]
  },
  {
   "cell_type": "markdown",
   "id": "6c5738e3",
   "metadata": {},
   "source": [
    "## Longest TV Show ratings"
   ]
  },
  {
   "cell_type": "code",
   "execution_count": 97,
   "id": "495c049a",
   "metadata": {},
   "outputs": [
    {
     "data": {
      "text/plain": [
       "rating             duration\n",
       "Mature Audience    1           777\n",
       "Teens              1           628\n",
       "Parental Guidance  1           239\n",
       "Mature Audience    2           190\n",
       "General Audience   1           147\n",
       "                              ... \n",
       "                   173           1\n",
       "                   181           1\n",
       "                   19            1\n",
       "                   20            1\n",
       "Parental Guidance  16            1\n",
       "Length: 610, dtype: int64"
      ]
     },
     "execution_count": 97,
     "metadata": {},
     "output_type": "execute_result"
    }
   ],
   "source": [
    "ratings = df[['rating', 'duration']]\n",
    "ratings.value_counts()"
   ]
  },
  {
   "cell_type": "code",
   "execution_count": 101,
   "id": "1510a63e",
   "metadata": {},
   "outputs": [
    {
     "data": {
      "text/html": [
       "<div>\n",
       "<style scoped>\n",
       "    .dataframe tbody tr th:only-of-type {\n",
       "        vertical-align: middle;\n",
       "    }\n",
       "\n",
       "    .dataframe tbody tr th {\n",
       "        vertical-align: top;\n",
       "    }\n",
       "\n",
       "    .dataframe thead th {\n",
       "        text-align: right;\n",
       "    }\n",
       "</style>\n",
       "<table border=\"1\" class=\"dataframe\">\n",
       "  <thead>\n",
       "    <tr style=\"text-align: right;\">\n",
       "      <th></th>\n",
       "      <th>duration</th>\n",
       "    </tr>\n",
       "    <tr>\n",
       "      <th>rating</th>\n",
       "      <th></th>\n",
       "    </tr>\n",
       "  </thead>\n",
       "  <tbody>\n",
       "    <tr>\n",
       "      <th>Teens</th>\n",
       "      <td>90</td>\n",
       "    </tr>\n",
       "    <tr>\n",
       "      <th>Teens</th>\n",
       "      <td>91</td>\n",
       "    </tr>\n",
       "    <tr>\n",
       "      <th>Teens</th>\n",
       "      <td>9</td>\n",
       "    </tr>\n",
       "    <tr>\n",
       "      <th>Parental Guidance</th>\n",
       "      <td>91</td>\n",
       "    </tr>\n",
       "    <tr>\n",
       "      <th>Mature Audience</th>\n",
       "      <td>4</td>\n",
       "    </tr>\n",
       "    <tr>\n",
       "      <th>...</th>\n",
       "      <td>...</td>\n",
       "    </tr>\n",
       "    <tr>\n",
       "      <th>Teens</th>\n",
       "      <td>98</td>\n",
       "    </tr>\n",
       "    <tr>\n",
       "      <th>Teens</th>\n",
       "      <td>3</td>\n",
       "    </tr>\n",
       "    <tr>\n",
       "      <th>Mature Audience</th>\n",
       "      <td>96</td>\n",
       "    </tr>\n",
       "    <tr>\n",
       "      <th>Mature Audience</th>\n",
       "      <td>88</td>\n",
       "    </tr>\n",
       "    <tr>\n",
       "      <th>Teens</th>\n",
       "      <td>88</td>\n",
       "    </tr>\n",
       "  </tbody>\n",
       "</table>\n",
       "<p>3627 rows × 1 columns</p>\n",
       "</div>"
      ],
      "text/plain": [
       "                  duration\n",
       "rating                    \n",
       "Teens                  90 \n",
       "Teens                  91 \n",
       "Teens                   9 \n",
       "Parental Guidance      91 \n",
       "Mature Audience         4 \n",
       "...                    ...\n",
       "Teens                  98 \n",
       "Teens                   3 \n",
       "Mature Audience        96 \n",
       "Mature Audience        88 \n",
       "Teens                  88 \n",
       "\n",
       "[3627 rows x 1 columns]"
      ]
     },
     "execution_count": 101,
     "metadata": {},
     "output_type": "execute_result"
    }
   ],
   "source": [
    "# subsetting to only include the ratings with more than 210 minutes\n",
    "longest_ratings = ratings[ratings['duration'] > '210']\n",
    "# setting the index to the rating column\n",
    "longest_ratings = longest_ratings.set_index(['rating'])\n",
    "longest_ratings"
   ]
  },
  {
   "cell_type": "code",
   "execution_count": null,
   "id": "2de62a53",
   "metadata": {},
   "outputs": [],
   "source": []
  },
  {
   "cell_type": "code",
   "execution_count": null,
   "id": "96598f13",
   "metadata": {},
   "outputs": [],
   "source": []
  }
 ],
 "metadata": {
  "kernelspec": {
   "display_name": "Python 3 (ipykernel)",
   "language": "python",
   "name": "python3"
  },
  "language_info": {
   "codemirror_mode": {
    "name": "ipython",
    "version": 3
   },
   "file_extension": ".py",
   "mimetype": "text/x-python",
   "name": "python",
   "nbconvert_exporter": "python",
   "pygments_lexer": "ipython3",
   "version": "3.9.7"
  }
 },
 "nbformat": 4,
 "nbformat_minor": 5
}
